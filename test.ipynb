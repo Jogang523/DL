{
 "cells": [
  {
   "cell_type": "code",
   "execution_count": 26,
   "metadata": {},
   "outputs": [
    {
     "ename": "InvalidSchema",
     "evalue": "No connection adapters were found for 'data:image/gif;base64,R0lGODlhAQABAAD/ACwAAAAAAQABAAACADs%3D'",
     "output_type": "error",
     "traceback": [
      "\u001b[1;31m---------------------------------------------------------------------------\u001b[0m",
      "\u001b[1;31mInvalidSchema\u001b[0m                             Traceback (most recent call last)",
      "Cell \u001b[1;32mIn[26], line 57\u001b[0m\n\u001b[0;32m     55\u001b[0m \u001b[38;5;66;03m# 이미지 다운로드\u001b[39;00m\n\u001b[0;32m     56\u001b[0m \u001b[38;5;28;01mfor\u001b[39;00m i, img_url \u001b[38;5;129;01min\u001b[39;00m \u001b[38;5;28menumerate\u001b[39m(image_urls):\n\u001b[1;32m---> 57\u001b[0m     img_data \u001b[38;5;241m=\u001b[39m \u001b[43mrequests\u001b[49m\u001b[38;5;241;43m.\u001b[39;49m\u001b[43mget\u001b[49m\u001b[43m(\u001b[49m\u001b[43mimg_url\u001b[49m\u001b[43m)\u001b[49m\u001b[38;5;241m.\u001b[39mcontent\n\u001b[0;32m     58\u001b[0m     \u001b[38;5;28;01mwith\u001b[39;00m \u001b[38;5;28mopen\u001b[39m(\u001b[38;5;124mf\u001b[39m\u001b[38;5;124m\"\u001b[39m\u001b[38;5;124mimages/img_\u001b[39m\u001b[38;5;132;01m{\u001b[39;00mi\u001b[38;5;241m+\u001b[39m\u001b[38;5;241m1\u001b[39m\u001b[38;5;132;01m}\u001b[39;00m\u001b[38;5;124m.jpg\u001b[39m\u001b[38;5;124m\"\u001b[39m, \u001b[38;5;124m'\u001b[39m\u001b[38;5;124mwb\u001b[39m\u001b[38;5;124m'\u001b[39m) \u001b[38;5;28;01mas\u001b[39;00m handler:\n\u001b[0;32m     59\u001b[0m         handler\u001b[38;5;241m.\u001b[39mwrite(img_data)\n",
      "File \u001b[1;32mc:\\Users\\M\\AppData\\Local\\Programs\\Python\\Python312\\Lib\\site-packages\\requests\\api.py:73\u001b[0m, in \u001b[0;36mget\u001b[1;34m(url, params, **kwargs)\u001b[0m\n\u001b[0;32m     62\u001b[0m \u001b[38;5;28;01mdef\u001b[39;00m \u001b[38;5;21mget\u001b[39m(url, params\u001b[38;5;241m=\u001b[39m\u001b[38;5;28;01mNone\u001b[39;00m, \u001b[38;5;241m*\u001b[39m\u001b[38;5;241m*\u001b[39mkwargs):\n\u001b[0;32m     63\u001b[0m \u001b[38;5;250m    \u001b[39m\u001b[38;5;124mr\u001b[39m\u001b[38;5;124;03m\"\"\"Sends a GET request.\u001b[39;00m\n\u001b[0;32m     64\u001b[0m \n\u001b[0;32m     65\u001b[0m \u001b[38;5;124;03m    :param url: URL for the new :class:`Request` object.\u001b[39;00m\n\u001b[1;32m   (...)\u001b[0m\n\u001b[0;32m     70\u001b[0m \u001b[38;5;124;03m    :rtype: requests.Response\u001b[39;00m\n\u001b[0;32m     71\u001b[0m \u001b[38;5;124;03m    \"\"\"\u001b[39;00m\n\u001b[1;32m---> 73\u001b[0m     \u001b[38;5;28;01mreturn\u001b[39;00m \u001b[43mrequest\u001b[49m\u001b[43m(\u001b[49m\u001b[38;5;124;43m\"\u001b[39;49m\u001b[38;5;124;43mget\u001b[39;49m\u001b[38;5;124;43m\"\u001b[39;49m\u001b[43m,\u001b[49m\u001b[43m \u001b[49m\u001b[43murl\u001b[49m\u001b[43m,\u001b[49m\u001b[43m \u001b[49m\u001b[43mparams\u001b[49m\u001b[38;5;241;43m=\u001b[39;49m\u001b[43mparams\u001b[49m\u001b[43m,\u001b[49m\u001b[43m \u001b[49m\u001b[38;5;241;43m*\u001b[39;49m\u001b[38;5;241;43m*\u001b[39;49m\u001b[43mkwargs\u001b[49m\u001b[43m)\u001b[49m\n",
      "File \u001b[1;32mc:\\Users\\M\\AppData\\Local\\Programs\\Python\\Python312\\Lib\\site-packages\\requests\\api.py:59\u001b[0m, in \u001b[0;36mrequest\u001b[1;34m(method, url, **kwargs)\u001b[0m\n\u001b[0;32m     55\u001b[0m \u001b[38;5;66;03m# By using the 'with' statement we are sure the session is closed, thus we\u001b[39;00m\n\u001b[0;32m     56\u001b[0m \u001b[38;5;66;03m# avoid leaving sockets open which can trigger a ResourceWarning in some\u001b[39;00m\n\u001b[0;32m     57\u001b[0m \u001b[38;5;66;03m# cases, and look like a memory leak in others.\u001b[39;00m\n\u001b[0;32m     58\u001b[0m \u001b[38;5;28;01mwith\u001b[39;00m sessions\u001b[38;5;241m.\u001b[39mSession() \u001b[38;5;28;01mas\u001b[39;00m session:\n\u001b[1;32m---> 59\u001b[0m     \u001b[38;5;28;01mreturn\u001b[39;00m \u001b[43msession\u001b[49m\u001b[38;5;241;43m.\u001b[39;49m\u001b[43mrequest\u001b[49m\u001b[43m(\u001b[49m\u001b[43mmethod\u001b[49m\u001b[38;5;241;43m=\u001b[39;49m\u001b[43mmethod\u001b[49m\u001b[43m,\u001b[49m\u001b[43m \u001b[49m\u001b[43murl\u001b[49m\u001b[38;5;241;43m=\u001b[39;49m\u001b[43murl\u001b[49m\u001b[43m,\u001b[49m\u001b[43m \u001b[49m\u001b[38;5;241;43m*\u001b[39;49m\u001b[38;5;241;43m*\u001b[39;49m\u001b[43mkwargs\u001b[49m\u001b[43m)\u001b[49m\n",
      "File \u001b[1;32mc:\\Users\\M\\AppData\\Local\\Programs\\Python\\Python312\\Lib\\site-packages\\requests\\sessions.py:589\u001b[0m, in \u001b[0;36mSession.request\u001b[1;34m(self, method, url, params, data, headers, cookies, files, auth, timeout, allow_redirects, proxies, hooks, stream, verify, cert, json)\u001b[0m\n\u001b[0;32m    584\u001b[0m send_kwargs \u001b[38;5;241m=\u001b[39m {\n\u001b[0;32m    585\u001b[0m     \u001b[38;5;124m\"\u001b[39m\u001b[38;5;124mtimeout\u001b[39m\u001b[38;5;124m\"\u001b[39m: timeout,\n\u001b[0;32m    586\u001b[0m     \u001b[38;5;124m\"\u001b[39m\u001b[38;5;124mallow_redirects\u001b[39m\u001b[38;5;124m\"\u001b[39m: allow_redirects,\n\u001b[0;32m    587\u001b[0m }\n\u001b[0;32m    588\u001b[0m send_kwargs\u001b[38;5;241m.\u001b[39mupdate(settings)\n\u001b[1;32m--> 589\u001b[0m resp \u001b[38;5;241m=\u001b[39m \u001b[38;5;28;43mself\u001b[39;49m\u001b[38;5;241;43m.\u001b[39;49m\u001b[43msend\u001b[49m\u001b[43m(\u001b[49m\u001b[43mprep\u001b[49m\u001b[43m,\u001b[49m\u001b[43m \u001b[49m\u001b[38;5;241;43m*\u001b[39;49m\u001b[38;5;241;43m*\u001b[39;49m\u001b[43msend_kwargs\u001b[49m\u001b[43m)\u001b[49m\n\u001b[0;32m    591\u001b[0m \u001b[38;5;28;01mreturn\u001b[39;00m resp\n",
      "File \u001b[1;32mc:\\Users\\M\\AppData\\Local\\Programs\\Python\\Python312\\Lib\\site-packages\\requests\\sessions.py:697\u001b[0m, in \u001b[0;36mSession.send\u001b[1;34m(self, request, **kwargs)\u001b[0m\n\u001b[0;32m    694\u001b[0m hooks \u001b[38;5;241m=\u001b[39m request\u001b[38;5;241m.\u001b[39mhooks\n\u001b[0;32m    696\u001b[0m \u001b[38;5;66;03m# Get the appropriate adapter to use\u001b[39;00m\n\u001b[1;32m--> 697\u001b[0m adapter \u001b[38;5;241m=\u001b[39m \u001b[38;5;28;43mself\u001b[39;49m\u001b[38;5;241;43m.\u001b[39;49m\u001b[43mget_adapter\u001b[49m\u001b[43m(\u001b[49m\u001b[43murl\u001b[49m\u001b[38;5;241;43m=\u001b[39;49m\u001b[43mrequest\u001b[49m\u001b[38;5;241;43m.\u001b[39;49m\u001b[43murl\u001b[49m\u001b[43m)\u001b[49m\n\u001b[0;32m    699\u001b[0m \u001b[38;5;66;03m# Start time (approximately) of the request\u001b[39;00m\n\u001b[0;32m    700\u001b[0m start \u001b[38;5;241m=\u001b[39m preferred_clock()\n",
      "File \u001b[1;32mc:\\Users\\M\\AppData\\Local\\Programs\\Python\\Python312\\Lib\\site-packages\\requests\\sessions.py:794\u001b[0m, in \u001b[0;36mSession.get_adapter\u001b[1;34m(self, url)\u001b[0m\n\u001b[0;32m    791\u001b[0m         \u001b[38;5;28;01mreturn\u001b[39;00m adapter\n\u001b[0;32m    793\u001b[0m \u001b[38;5;66;03m# Nothing matches :-/\u001b[39;00m\n\u001b[1;32m--> 794\u001b[0m \u001b[38;5;28;01mraise\u001b[39;00m InvalidSchema(\u001b[38;5;124mf\u001b[39m\u001b[38;5;124m\"\u001b[39m\u001b[38;5;124mNo connection adapters were found for \u001b[39m\u001b[38;5;132;01m{\u001b[39;00murl\u001b[38;5;132;01m!r}\u001b[39;00m\u001b[38;5;124m\"\u001b[39m)\n",
      "\u001b[1;31mInvalidSchema\u001b[0m: No connection adapters were found for 'data:image/gif;base64,R0lGODlhAQABAAD/ACwAAAAAAQABAAACADs%3D'"
     ]
    }
   ],
   "source": [
    "import time\n",
    "import os\n",
    "import requests\n",
    "from selenium import webdriver\n",
    "from bs4 import BeautifulSoup\n",
    "\n",
    "# ChromeDriver 경로 설정\n",
    "driver = webdriver.Chrome() \n",
    "\n",
    "# 네이버 이미지 검색 URL\n",
    "search_url = \"https://search.naver.com/search.naver?where=image&sm=tab_jum&query=\"\n",
    "\n",
    "# 검색어 설정\n",
    "query = \"고양이\"\n",
    "url = search_url + query\n",
    "\n",
    "# 웹 페이지 열기\n",
    "driver.get(url)\n",
    "\n",
    "# 스크롤 내리기\n",
    "SCROLL_PAUSE_TIME = 2\n",
    "MAX_SCROLL_COUNT = 10  # 최대 스크롤 횟수\n",
    "scroll_count = 0\n",
    "last_height = driver.execute_script(\"return document.body.scrollHeight\")\n",
    "\n",
    "while scroll_count < MAX_SCROLL_COUNT:\n",
    "    # Scroll down to bottom\n",
    "    driver.execute_script(\"window.scrollTo(0, document.body.scrollHeight);\")\n",
    "\n",
    "    # Wait to load page\n",
    "    time.sleep(SCROLL_PAUSE_TIME)\n",
    "\n",
    "    # Calculate new scroll height and compare with last scroll height\n",
    "    new_height = driver.execute_script(\"return document.body.scrollHeight\")\n",
    "    if new_height == last_height:\n",
    "        break\n",
    "    last_height = new_height\n",
    "    scroll_count += 1\n",
    "    \n",
    "# BeautifulSoup을 사용한 HTML 파싱\n",
    "html = driver.page_source\n",
    "soup = BeautifulSoup(html, 'html.parser')\n",
    "\n",
    "# 이미지 URL 추출\n",
    "image_tags = soup.find_all(\"img\")\n",
    "image_urls = [img['src'] for img in image_tags if 'src' in img.attrs]\n",
    "\n",
    "# 웹 드라이버 닫기\n",
    "driver.quit()\n",
    "\n",
    "# 이미지 저장 폴더 생성\n",
    "if not os.path.exists('images'):\n",
    "    os.makedirs('images')\n",
    "\n",
    "# 이미지 다운로드\n",
    "for i, img_url in enumerate(image_urls):\n",
    "    img_data = requests.get(img_url).content\n",
    "    with open(f\"images/img_{i+1}.jpg\", 'wb') as handler:\n",
    "        handler.write(img_data)\n",
    "\n",
    "print(\"이미지 크롤링 완료.\")\n"
   ]
  },
  {
   "cell_type": "code",
   "execution_count": 21,
   "metadata": {},
   "outputs": [],
   "source": [
    "image_tags = soup.find_all(\"img\")\n",
    "image_urls = [img['src'] for img in image_tags]"
   ]
  },
  {
   "cell_type": "code",
   "execution_count": 22,
   "metadata": {},
   "outputs": [
    {
     "data": {
      "text/plain": [
       "['https://search.pstatic.net/sunny/?src=https%3A%2F%2Fupload3.inven.co.kr%2Fupload%2F2022%2F08%2F08%2Fbbs%2Fi14787298555.jpg%3FMW%3D800&type=f54_54',\n",
       " 'https://search.pstatic.net/common/?src=http%3A%2F%2Fblogfiles.naver.net%2FMjAyMzEyMTVfNjAg%2FMDAxNzAyNjIwMDE4Mjk1.xABVi8pmCKpz36O2XJKjwx9Hs4bgcStQ00FibskfKSgg.K7ENqVWjuWhenW9PHxJSgGeK3CVJJ_Q_RU8Sm0DFfAog.JPEG.petami010%2F1.jpg&type=f54_54',\n",
       " 'https://search.pstatic.net/common/?src=http%3A%2F%2Fblogfiles.naver.net%2FMjAyMzA0MjhfMTA2%2FMDAxNjgyNjQ4NzM3MzUz.-QuwznZfHeLaci0dEWWfhzWorMohPteLtrhxxLBbpqEg.l2ZLndPET4KS7B8BNa2zGg6XU6Lt_Hit_FT9tUVpdEQg.JPEG.rayloveseva%2FIMG_8191.JPG&type=f54_54',\n",
       " 'https://search.pstatic.net/common/?src=http%3A%2F%2Fblogfiles.naver.net%2F20160212_53%2Fwillgu9_14552567459952OMfm_PNG%2F%25B0%25ED1.png&type=f54_54',\n",
       " 'https://search.pstatic.net/sunny/?src=https%3A%2F%2Fyt3.googleusercontent.com%2FPbPapJxxOhmVPZ3nEy6KcC4M-t9QavvZ789udXj8J0CtuHyh_RBtwvnzXpLJXcVktAZHzDtmZg%3Ds900-c-k-c0x00ffffff-no-rj&type=f54_54',\n",
       " 'https://search.pstatic.net/common/?src=http%3A%2F%2Fblogfiles.naver.net%2FMjAyMjAyMDJfMjQ4%2FMDAxNjQzNzMwMzMyMzQ1.QCArZDKBLxYrx2u6ikGMf6ARRloIjz99buepcpx9_hQg.bnBh_1Qp-DY_KJtm0j4mZRFGb8q9DMrKnSMV_6Y7rAAg.JPEG.skdms9228%2FKakaoTalk_20220202_003023321.jpg&type=f54_54',\n",
       " 'https://search.pstatic.net/common/?src=http%3A%2F%2Fblogfiles.naver.net%2FMjAyNDAxMTlfMTAy%2FMDAxNzA1NjU1MTU4MDY3.NB4UgI12_gpNCHPtr3_DrsWUfCZ1lEZEviV6kjruT7Ig.wTU_ETbi_eYVvGuJolaZcU9UkhML5kAuEsk40hx5Rv8g.JPEG.doremicat_incheon%2F%25BA%25EA%25BC%25F4%25B0%25ED%25BE%25E7%25C0%25CC%25BA%25D0%25BE%25E7_%252810%2529.jpg&type=f54_54',\n",
       " 'https://search.pstatic.net/common/?src=http%3A%2F%2Fblogfiles.naver.net%2FMjAyMzA2MTVfMjU4%2FMDAxNjg2ODM1NDY3ODI3.wgyHjYE8JaI93POP2t9FoQlP0C25IN1jgyK8o7kVg7Yg.KG_J1i1bM9Ml7DJfTeYgj-tcmIUPyQw09dGaFUiOrXcg.JPEG.yeondongee%2FIMG_3501.JPG&type=f54_54',\n",
       " 'https://search.pstatic.net/common/?src=http%3A%2F%2Fblogfiles.naver.net%2FMjAyMjEyMDZfMjU1%2FMDAxNjcwMzM1NDA4NzU5.xBWoCMNQb841DfQMSkYxiQriG9V61nKcmJRVUNMjgz4g.cdwH-1f9krtSJkz531hcwnPKLSudpo00aa_piSW1hTkg.JPEG.vhfrk%2FIMG_1926.jpg&type=f54_54',\n",
       " 'https://search.pstatic.net/common/?src=http%3A%2F%2Fblogfiles.naver.net%2FMjAyMDA2MTZfMjY1%2FMDAxNTkyMjYwNTk2MDcy.A0wcAURDwJpeXEoKbTMxqXJbQKcZPzj9Cj_pjG59oc8g.rWERlhEeZZEwwgDOPS5ZdI_AiqDpGHom89_GwQrjLrgg.JPEG.mmsa9909%2FKakaoTalk_20200615_173832034.jpg&type=f54_54',\n",
       " 'https://search.pstatic.net/common/?src=http%3A%2F%2Fblogfiles.naver.net%2FMjAyMzA3MDNfNjIg%2FMDAxNjg4MzQ3MDE2MDUz.KwGjoJmRYXZosL__OWFhHADTlBhQCFW9Xfem5kj3orwg.9naFth4DnuyVR0QwmFxkafc0Ucafs9JoAkN4sPjVYesg.JPEG.wnflqud213%2FIMG_6035.JPG&type=f54_54',\n",
       " 'https://search.pstatic.net/common/?src=http%3A%2F%2Fblogfiles.naver.net%2FMjAyMjA4MDRfMjAz%2FMDAxNjU5NTg5ODUwMTk3.t5mTuzgbtOFNyLMP16ym7cUppgC0uk1pZ-QihouEJDAg.VbraD3c96DrO4sRSW57btsY0OuHyJaEuyAPaKHN8MgUg.PNG.jdavid1004%2Fimage.png&type=f54_54',\n",
       " 'https://search.pstatic.net/common/?src=http%3A%2F%2Fblogfiles.naver.net%2FMjAyMzAzMTFfMjI4%2FMDAxNjc4NTEwMzQ2MjI5.x8Tn3Nvc3rW0nwdgc2PzbMB2-elUsrwGDdjoX0AVmkAg.r6hhzxlZ7PojvQf5awFf0ZO99P3-BkVgXWVq3utjlwEg.JPEG.wjatlaajrwk%2F07.jpg%2Fundefined%2Fundefined&type=f54_54',\n",
       " 'https://search.pstatic.net/sunny/?src=https%3A%2F%2Fi.pinimg.com%2F736x%2Fe0%2F0f%2Fef%2Fe00fef187fde30ef7ad3350da65d8df4.jpg&type=f54_54',\n",
       " 'https://search.pstatic.net/common/?src=http%3A%2F%2Fblogfiles.naver.net%2FMjAyMzA0MjNfOTYg%2FMDAxNjgyMjQ5NjIzODU3.K4EymuSawtpv-aYeYBrBowUO9qGYG_RGQSPTfSaj5swg.RuW2CPV9tgSVnhVrfOydkxSdnzwGN_1vZq5wIIQZaD4g.JPEG.alstjs2029%2FIMG_5172.JPG&type=f54_54',\n",
       " 'https://search.pstatic.net/sunny/?src=https%3A%2F%2Fi.pinimg.com%2Foriginals%2F9c%2Fa4%2Ffd%2F9ca4fd20c1f3a755102b07eb5e3a17e8.jpg&type=f54_54',\n",
       " 'https://search.pstatic.net/common/?src=http%3A%2F%2Fblogfiles.naver.net%2Fdata2%2F2004%2F7%2F20%2F254%2F%2525BD%2525CE%2525C0%2525CC-1682.jpg&type=f54_54',\n",
       " 'https://search.pstatic.net/common/?src=http%3A%2F%2Fblogfiles.naver.net%2FMjAyMTExMTJfMTk3%2FMDAxNjM2NzIyNjA1NjEz.PhLlu3a87F8sYDacYcJB5VA3kMKAvhMVvnggIU_qa20g.pbcuaEkATRmzv8GWKuFCSMfDBB3WIVD_4m2bhnYa_ykg.JPEG.reon0430%2F20211111%25A3%25DF233739.jpg&type=f54_54',\n",
       " 'https://search.pstatic.net/common/?src=http%3A%2F%2Fblogfiles.naver.net%2F20150212_20%2Flovesme_1423732925321EL4TG_JPEG%2F%25B0%25ED%25BE%25E7%25C0%25CC%25C0%25C7_%25C1%25BE%25B7%25F9.jpg&type=f54_54']"
      ]
     },
     "execution_count": 22,
     "metadata": {},
     "output_type": "execute_result"
    }
   ],
   "source": [
    "image_urls"
   ]
  },
  {
   "cell_type": "code",
   "execution_count": null,
   "metadata": {},
   "outputs": [],
   "source": []
  }
 ],
 "metadata": {
  "kernelspec": {
   "display_name": "Python 3",
   "language": "python",
   "name": "python3"
  },
  "language_info": {
   "codemirror_mode": {
    "name": "ipython",
    "version": 3
   },
   "file_extension": ".py",
   "mimetype": "text/x-python",
   "name": "python",
   "nbconvert_exporter": "python",
   "pygments_lexer": "ipython3",
   "version": "3.12.3"
  }
 },
 "nbformat": 4,
 "nbformat_minor": 2
}
