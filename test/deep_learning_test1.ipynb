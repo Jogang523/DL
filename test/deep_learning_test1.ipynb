{
 "cells": [
  {
   "cell_type": "code",
   "execution_count": 1,
   "metadata": {},
   "outputs": [],
   "source": [
    "#2024_07_16\n",
    "import numpy as np"
   ]
  },
  {
   "cell_type": "code",
   "execution_count": 2,
   "metadata": {},
   "outputs": [
    {
     "ename": "NameError",
     "evalue": "name 'w' is not defined",
     "output_type": "error",
     "traceback": [
      "\u001b[1;31m---------------------------------------------------------------------------\u001b[0m",
      "\u001b[1;31mNameError\u001b[0m                                 Traceback (most recent call last)",
      "Cell \u001b[1;32mIn[2], line 2\u001b[0m\n\u001b[0;32m      1\u001b[0m \u001b[38;5;66;03m# 회귀모델의 식을 파이썬으로 작성하시오\u001b[39;00m\n\u001b[1;32m----> 2\u001b[0m y_pred\u001b[38;5;241m=\u001b[39m\u001b[43mw\u001b[49m\u001b[38;5;241m*\u001b[39mx\u001b[38;5;241m+\u001b[39mb\n",
      "\u001b[1;31mNameError\u001b[0m: name 'w' is not defined"
     ]
    }
   ],
   "source": [
    "# 회귀모델의 식을 파이썬으로 작성하시오\n",
    "y_pred=w*x+b"
   ]
  },
  {
   "cell_type": "code",
   "execution_count": 3,
   "metadata": {},
   "outputs": [],
   "source": [
    "# 회귀 모델의 cost 함수 식을 파이썬 코드로 작성하시오\n",
    "x=np.array([1,2,3,4,5,6])\n",
    "y=np.array([3,5,7,9,11,13])\n",
    "\n",
    "w=0\n",
    "b=0\n",
    "m=len(x)\n",
    "alpha=0.01\n",
    "\n",
    "def cost_cal(x,y,w,b,m):\n",
    "    cost=np.sum((w*x+b-y)**2)/2*m\n",
    "    return cost"
   ]
  },
  {
   "cell_type": "code",
   "execution_count": 4,
   "metadata": {},
   "outputs": [],
   "source": [
    "# gradidentescent 알고리즘을 설명하고 파이썬 코드로 구현하는 방법을 만드시오\n",
    "#경사하강법=gradidentescent w계수와 b계수의 값을 소량식 증가하여 최적의 cost를 찾는방법"
   ]
  },
  {
   "cell_type": "code",
   "execution_count": null,
   "metadata": {},
   "outputs": [],
   "source": []
  },
  {
   "cell_type": "code",
   "execution_count": 6,
   "metadata": {},
   "outputs": [
    {
     "name": "stdout",
     "output_type": "stream",
     "text": [
      "w: 2.018966131817874 b: 0.9188022249154049\n",
      "cost: 0.022836409938557345\n",
      "w: 2.015800099733941 b: 0.9323566367232747\n",
      "cost: 0.015848565454400245\n",
      "w: 2.013162576006522 b: 0.9436483993481359\n",
      "cost: 0.010998971713951616\n",
      "w: 2.0109653362981814 b: 0.9530552186910589\n",
      "cost: 0.0076333330680550164\n",
      "w: 2.0091348836331604 b: 0.9608917498943939\n",
      "cost: 0.00529756555823788\n",
      "w: 2.007609989946704 b: 0.9674201224571184\n",
      "cost: 0.003676532989406227\n",
      "w: 2.0063396480255875 b: 0.9728587083839634\n",
      "cost: 0.002551529504183742\n",
      "w: 2.0052813653329125 b: 0.9773894266601472\n",
      "cost: 0.0017707723089878\n",
      "w: 2.0043997426461386 b: 0.9811638283840998\n",
      "cost: 0.0012289235006439324\n",
      "w: 2.0036652899642484 b: 0.9843081661039401\n",
      "cost: 0.0008528781271140591\n"
     ]
    }
   ],
   "source": [
    "#회귀모델의 gradientdescent 식을 작성하시오\n",
    "\n",
    "cost_l=[]\n",
    "\n",
    "for i in range(1000):\n",
    "\n",
    "    y_pred=w*x+b\n",
    "\n",
    "    w_grad=np.sum((y_pred-y)*x)/m\n",
    "    b_grad=np.sum(y_pred-y)/m\n",
    "\n",
    "    w=w-alpha*w_grad\n",
    "    b=b-alpha*b_grad\n",
    "\n",
    "    if i % 100 ==0:\n",
    "        print('w:',w,'b:',b)\n",
    "        cost=cost_cal(x,y,w,b,m)\n",
    "        print('cost:',cost)\n",
    "        cost_l.append(cost)\n",
    "\n",
    "\n",
    "\n"
   ]
  },
  {
   "cell_type": "code",
   "execution_count": 9,
   "metadata": {},
   "outputs": [
    {
     "data": {
      "text/plain": [
       "[<matplotlib.lines.Line2D at 0x27aa5edd640>]"
      ]
     },
     "execution_count": 9,
     "metadata": {},
     "output_type": "execute_result"
    },
    {
     "data": {
      "image/png": "[encoded data removed]",
      "text/plain": [
       "<Figure size 640x480 with 1 Axes>"
      ]
     },
     "metadata": {},
     "output_type": "display_data"
    }
   ],
   "source": [
    "#LinearRegression gradientdescent를 통해서 학습하는 코드를 작성하시오\n",
    "import matplotlib.pyplot as plt\n",
    "\n",
    "plt.plot(cost_l)"
   ]
  },
  {
   "cell_type": "code",
   "execution_count": 10,
   "metadata": {},
   "outputs": [],
   "source": [
    "y_pred=2*x+0.98"
   ]
  },
  {
   "cell_type": "code",
   "execution_count": 11,
   "metadata": {},
   "outputs": [
    {
     "data": {
      "text/plain": [
       "0.9999657142857142"
      ]
     },
     "execution_count": 11,
     "metadata": {},
     "output_type": "execute_result"
    }
   ],
   "source": [
    "from sklearn.metrics import r2_score\n",
    "r2_score(y, y_pred)"
   ]
  },
  {
   "cell_type": "code",
   "execution_count": null,
   "metadata": {},
   "outputs": [],
   "source": []
  }
 ],
 "metadata": {
  "kernelspec": {
   "display_name": "Python 3",
   "language": "python",
   "name": "python3"
  },
  "language_info": {
   "codemirror_mode": {
    "name": "ipython",
    "version": 3
   },
   "file_extension": ".py",
   "mimetype": "text/x-python",
   "name": "python",
   "nbconvert_exporter": "python",
   "pygments_lexer": "ipython3",
   "version": "3.12.3"
  }
 },
 "nbformat": 4,
 "nbformat_minor": 2
}
